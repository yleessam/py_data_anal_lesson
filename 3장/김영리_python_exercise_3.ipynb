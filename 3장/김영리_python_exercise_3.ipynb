{
  "nbformat": 4,
  "nbformat_minor": 0,
  "metadata": {
    "colab": {
      "provenance": [],
      "authorship_tag": "ABX9TyOCIvhNTwlcAWD+neS8Clc5",
      "include_colab_link": true
    },
    "kernelspec": {
      "name": "python3",
      "display_name": "Python 3"
    },
    "language_info": {
      "name": "python"
    }
  },
  "cells": [
    {
      "cell_type": "markdown",
      "metadata": {
        "id": "view-in-github",
        "colab_type": "text"
      },
      "source": [
        "<a href=\"https://colab.research.google.com/github/yleessam/py_data_anal_lesson/blob/main/3%EC%9E%A5/%EA%B9%80%EC%98%81%EB%A6%AC_python_exercise_3.ipynb\" target=\"_parent\"><img src=\"https://colab.research.google.com/assets/colab-badge.svg\" alt=\"Open In Colab\"/></a>"
      ]
    },
    {
      "cell_type": "markdown",
      "source": [
        "다음 리스트 L의 순서를 아래와 같이 변경하시오. (힌트: pop())\n",
        "\n",
        "변경 전\n",
        "\n",
        "[1, 3, 5, 7, 9]\n",
        "변경 후\n",
        "\n",
        "[3, 5, 7, 9, 1]"
      ],
      "metadata": {
        "id": "fyhqaibNEzAv"
      }
    },
    {
      "cell_type": "code",
      "execution_count": null,
      "metadata": {
        "colab": {
          "base_uri": "https://localhost:8080/"
        },
        "id": "QOqR7L4qEhZi",
        "outputId": "a295e0e2-86c1-4e44-93d0-495af785e574"
      },
      "outputs": [
        {
          "output_type": "stream",
          "name": "stdout",
          "text": [
            "[3, 5, 7, 9, 1]\n"
          ]
        }
      ],
      "source": [
        "L = [1, 3, 5, 7, 9]\n",
        "first_item = L.pop(0)\n",
        "L.append(first_item)\n",
        "print(L)"
      ]
    },
    {
      "cell_type": "markdown",
      "source": [
        "동전 던지기 시도 횟수를 입력 받고 각 시도에서 앞면이 나올 확률을 출력하는 프로그램을 작성하시오.\n",
        "\n",
        "1~10번째 시도까지: 매 시도마다 앞면이 나올 확률을 출력\n",
        "10번째 이후부터: 10의 배수(10, 20, 30,...)마다 앞면이 나올 확률을 출력\n",
        "\n",
        "출력 예시\n",
        "\n",
        "동전 던지기 시도 횟수를 입력(1 ~ 100) : 25\n",
        "  1 번째까지 던지기에서 앞면이 나올 확률 : 0%\n",
        "  2 번째까지 던지기에서 앞면이 나올 확률 : 0%\n",
        "  3 번째까지 던지기에서 앞면이 나올 확률 : 0%\n",
        "  4 번째까지 던지기에서 앞면이 나올 확률 : 25%\n",
        "  5 번째까지 던지기에서 앞면이 나올 확률 : 40%\n",
        "  6 번째까지 던지기에서 앞면이 나올 확률 : 50%\n",
        "  7 번째까지 던지기에서 앞면이 나올 확률 : 43%\n",
        "  8 번째까지 던지기에서 앞면이 나올 확률 : 50%\n",
        "  9 번째까지 던지기에서 앞면이 나올 확률 : 56%\n",
        " 10 번째까지 던지기에서 앞면이 나올 확률 : 60%\n",
        " 20 번째까지 던지기에서 앞면이 나올 확률 : 55%\n",
        "\n",
        "**********************************************\n",
        "총 25번 동전 던지기에서 앞면이 나올 확률: 52%"
      ],
      "metadata": {
        "id": "-mTIeRgMFFRD"
      }
    },
    {
      "cell_type": "code",
      "source": [
        "import random \n",
        "\n",
        "# 코드를 작성하세요\n",
        "num_trials = int(input(\"동전 던지기 시도 횟수를 입력(1 ~ 100) : \"))\n",
        "num_heads = 0\n",
        "\n",
        "for i in range(num_trials):\n",
        "    if i < 10 or (i+1) % 10 == 0:\n",
        "        probability = num_heads / (i+1) * 100\n",
        "        print(f\"{i+1:2} 번째까지 던지기에서 앞면이 나올 확률 : {probability:.0f}%\")\n",
        "        \n",
        "    if random.random() < 0.5:\n",
        "        num_heads += 1\n",
        "\n",
        "num = num_heads / num_trials * 100\n",
        "\n",
        "\n",
        "print('\\n**********************************************')\n",
        "print('총 {}번 동전 던지기에서 앞면이 나올 확률: {:.0f}%'.format(num_trials, num))\n"
      ],
      "metadata": {
        "colab": {
          "base_uri": "https://localhost:8080/"
        },
        "id": "CMVPzpOhFGYT",
        "outputId": "7ca788f0-bbca-4f60-8169-f8a5db08dddd"
      },
      "execution_count": null,
      "outputs": [
        {
          "output_type": "stream",
          "name": "stdout",
          "text": [
            "동전 던지기 시도 횟수를 입력(1 ~ 100) : 10\n",
            " 1 번째까지 던지기에서 앞면이 나올 확률 : 0%\n",
            " 2 번째까지 던지기에서 앞면이 나올 확률 : 0%\n",
            " 3 번째까지 던지기에서 앞면이 나올 확률 : 0%\n",
            " 4 번째까지 던지기에서 앞면이 나올 확률 : 0%\n",
            " 5 번째까지 던지기에서 앞면이 나올 확률 : 0%\n",
            " 6 번째까지 던지기에서 앞면이 나올 확률 : 0%\n",
            " 7 번째까지 던지기에서 앞면이 나올 확률 : 14%\n",
            " 8 번째까지 던지기에서 앞면이 나올 확률 : 25%\n",
            " 9 번째까지 던지기에서 앞면이 나올 확률 : 22%\n",
            "10 번째까지 던지기에서 앞면이 나올 확률 : 20%\n",
            "\n",
            "**********************************************\n",
            "총 10번 동전 던지기에서 앞면이 나올 확률: 30%\n"
          ]
        }
      ]
    },
    {
      "cell_type": "markdown",
      "source": [
        "수식을 입력받아 연산 결과를 출력하는 코드를 작성하시오.\n",
        "(+, -, *, / 연산자만 허용하고, 그 외의 연산자가 입력되었을 경우, 연산자는 허용하지 않는다는 메시지를 출력)\n",
        "\n",
        "출력 예시\n",
        "\n",
        "수식 입력(예: 20 * 40) :20 + 4\n",
        "20.000000 +  4.000000 = 24.000000\n",
        "수식 입력(예: 20 * 40) :0.3 * 0\n",
        " 0.300000 *  0.000000 =  0.000000\n",
        "수식 입력(예: 20 * 40) :30 / 0\n",
        "0.000000000 로 나누기를 수행할 수 없습니다.\n",
        "수식 입력(예: 20 * 40) :30 ? 7\n",
        "? 지원하지 않는 연산자입니다."
      ],
      "metadata": {
        "id": "X7CM9XWXHb0E"
      }
    },
    {
      "cell_type": "code",
      "source": [
        "n = input(\"수식 입력(예: 20 * 40) :\")\n",
        "\n",
        "\n",
        "# 코드를 작성하세요\n",
        "num1, opr, num2 = n.split()\n",
        "num1 = float(num1)\n",
        "num2 = float(num2)\n",
        "\n",
        "if opr not in ['+', '-','*', '/']:\n",
        "  print(f'{opr}은 지원하지 않는 연산자입니다.')\n",
        "\n",
        "if opr == '+':\n",
        "  result = num1+num2\n",
        "\n",
        "if opr == '-':\n",
        "  result = num1-num2\n",
        "\n",
        "if opr == '*':\n",
        "  result = num1*num2\n",
        "\n",
        "if opr == '/':\n",
        "  result = num1/num2\n",
        "\n",
        "print('{:.6f} {} {:.6f} = {:.6f}'.format(num1, opr, num2, result)) "
      ],
      "metadata": {
        "colab": {
          "base_uri": "https://localhost:8080/"
        },
        "id": "cOmbl4RpHcya",
        "outputId": "cd870009-1cc0-42a1-b000-d76019b0e0b3"
      },
      "execution_count": null,
      "outputs": [
        {
          "output_type": "stream",
          "name": "stdout",
          "text": [
            "수식 입력(예: 20 * 40) :20 / 3\n",
            "20.000000 / 3.000000 = 6.666667\n"
          ]
        }
      ]
    },
    {
      "cell_type": "markdown",
      "source": [
        "구하려는 소수의 개수를 입력받아, 입력받은 수만큼의 소수를 구하여 출력하시오.\n",
        "\n",
        "출력 예시\n",
        "\n",
        "구하려는 소수의 개수를 입력:11\n",
        "2\n",
        "3\n",
        "5\n",
        "7\n",
        "11\n",
        "13\n",
        "17\n",
        "19\n",
        "23\n",
        "29\n",
        "31\n",
        "11 개의 소수를 찾았습니다"
      ],
      "metadata": {
        "id": "CzoKYoZuInCg"
      }
    },
    {
      "cell_type": "code",
      "source": [
        "n = int(input(\"구하려는 소수의 개수를 입력:\"))\n",
        "\n",
        "primes = []  # 소수를 저장할 리스트\n",
        "num = 2  # 2부터 소수인지 판별하기 시작\n",
        "\n",
        "while len(primes) < n:  # 구하려는 소수의 개수만큼 소수를 구함\n",
        "    is_prime = True  # 소수인지 여부를 저장하는 변수\n",
        "    for i in range(2, num):  # 2부터 num-1까지의 수로 나누어 떨어지는지 검사\n",
        "        if num % i == 0:\n",
        "            is_prime = False\n",
        "            break  # 나누어 떨어지는 수가 있다면 소수가 아니므로 반복 종료\n",
        "    if is_prime:\n",
        "        primes.append(num)  # 소수라면 primes 리스트에 추가\n",
        "    num += 1  # 다음 수로 이동\n",
        "\n",
        "for p in primes:\n",
        "    print(p)\n",
        "print(f\"{n} 개의 소수를 찾았습니다.\")"
      ],
      "metadata": {
        "colab": {
          "base_uri": "https://localhost:8080/"
        },
        "id": "6dpIrawrIluQ",
        "outputId": "e3be3171-1350-4daf-c659-89260da0248e"
      },
      "execution_count": null,
      "outputs": [
        {
          "output_type": "stream",
          "name": "stdout",
          "text": [
            "구하려는 소수의 개수를 입력:3\n",
            "2\n",
            "3\n",
            "5\n",
            "3 개의 소수를 찾았습니다.\n"
          ]
        }
      ]
    },
    {
      "cell_type": "markdown",
      "source": [
        "다양한 개수의 정수를 입력받아, 각 수가 양수인지 음수인지 구분하여 각각의 개수를 출력하는 코드를 작성하시오.\n",
        "\n",
        "입력으로부터 정수리스트로 변환하는 것은 한 줄 코드로 작성\n",
        "입력 받은 값 중 0은 무시\n",
        "출력예시\n",
        "\n",
        "정수들을 입력:\n",
        "\n",
        "입력한 숫자가 없습니다\n",
        "양수: 0개, 음수: 0개, 합계: 0\n",
        "정수들을 입력:\n",
        "12 -56 25 98 -54 0 77 0\n",
        "양수: 4개, 음수: 2개, 합계: 102"
      ],
      "metadata": {
        "id": "nEaEU4o9I_4U"
      }
    },
    {
      "cell_type": "code",
      "source": [
        "# 입력받은 값을 공백을 기준으로 리스트로 변환\n",
        "int_list = list(map(int, input(\"정수들을 입력: \").split()))\n",
        "\n",
        "# 양수, 음수, 합계를 위한 변수 초기화\n",
        "positive_count = 0\n",
        "negative_count = 0\n",
        "total = 0\n",
        "\n",
        "# 리스트 순회\n",
        "for num in int_list:\n",
        "    # num이 0이면 무시\n",
        "    if num == 0:\n",
        "        continue\n",
        "    # num이 양수일 때\n",
        "    elif num > 0:\n",
        "        positive_count += 1\n",
        "    # num이 음수일 때\n",
        "    else:\n",
        "        negative_count += 1\n",
        "    # total 변수에 모든 수를 더함\n",
        "    total += num\n",
        "\n",
        "# 결과 출력\n",
        "if len(int_list) == 0:\n",
        "    print(\"입력한 숫자가 없습니다\")\n",
        "else:\n",
        "    print(f\"양수: {positive_count}개, 음수: {negative_count}개, 합계: {total}\")\n"
      ],
      "metadata": {
        "colab": {
          "base_uri": "https://localhost:8080/"
        },
        "id": "C_xjUeEpJDUH",
        "outputId": "89327716-914b-4cf5-9094-55210bbe6a9b"
      },
      "execution_count": null,
      "outputs": [
        {
          "output_type": "stream",
          "name": "stdout",
          "text": [
            "정수들을 입력: 123 553 221 23\n",
            "양수: 4개, 음수: 0개, 합계: 920\n"
          ]
        }
      ]
    },
    {
      "cell_type": "markdown",
      "source": [
        "과일 가게에는 배, 자몽, 메론, 감을 판매하고 있으며 각 과일의 재고량과 단가를 사전에 저장하여 관리한다.\n",
        "\n",
        "fruit = {'배' : [2, 1000], '자몽' : [1, 2000], '메론' : [1, 8000], '감' : [6, 800]}\n",
        "다음과 같이 결과를 출력하는 코드를 작성하시오.\n",
        "\n",
        "과일 이름을 입력받아 판매하는 과일인 경우, 재고에서 하나 뱀\n",
        "과일 당 재고가 5개는 되도록 사전에서 재고정보와 단가를 읽어들여 5개 미만인 경우는 구입하도록 함\n",
        "출력 예시\n",
        "\n",
        "먹고 싶은 과일은? :사과\n",
        "사과 준비되어 있지 않습니다\n",
        "각 과일 당 최소 5개는 되도록 구입합니다\n",
        "구입에 필요한 총 금액은 : 43000 원 입니다\n",
        "먹고 싶은 과일은? :배\n",
        "배 맛있게 드세요\n",
        "각 과일 당 최소 5개는 되도록 구입합니다\n",
        "구입에 필요한 총 금액은 : 44000 원 입니다"
      ],
      "metadata": {
        "id": "l7y3QAMMJ3VP"
      }
    },
    {
      "cell_type": "code",
      "source": [
        "fruit = {'배' : [2, 1000], '자몽' : [1, 2000], '메론' : [1, 8000], '감' : [6, 800]}\n",
        "\n",
        "while True:\n",
        "    wanted = input(\"먹고 싶은 과일은? :\")\n",
        "    if wanted not in fruit:\n",
        "        print(wanted + \" 준비되어 있지 않습니다\")\n",
        "        print(\"각 과일 당 최소 5개는 되도록 구입합니다\")\n",
        "        total_price = 0\n",
        "        for key in fruit.keys():\n",
        "            if fruit[key][0] < 5:\n",
        "                total_price += (5 - fruit[key][0]) * fruit[key][1]\n",
        "                fruit[key][0] = 5\n",
        "        print(\"구입에 필요한 총 금액은 : \" + str(total_price) + \" 원 입니다\")\n",
        "    else:\n",
        "        if fruit[wanted][0] < 1:\n",
        "            print(wanted + \" 준비되어 있지 않습니다\")\n",
        "            print(\"각 과일 당 최소 5개는 되도록 구입합니다\")\n",
        "            total_price = 0\n",
        "            for key in fruit.keys():\n",
        "                if fruit[key][0] < 5:\n",
        "                    total_price += (5 - fruit[key][0]) * fruit[key][1]\n",
        "                    fruit[key][0] = 5\n",
        "            print(\"구입에 필요한 총 금액은 : \" + str(total_price) + \" 원 입니다\")\n",
        "        else:\n",
        "            fruit[wanted][0] -= 1\n",
        "            print(wanted + \" 맛있게 드세요\")\n"
      ],
      "metadata": {
        "colab": {
          "base_uri": "https://localhost:8080/",
          "height": 584
        },
        "id": "XPv6fWbEJmZy",
        "outputId": "c540051d-0b14-436b-c0d8-c5e6b9f465f3"
      },
      "execution_count": null,
      "outputs": [
        {
          "output_type": "stream",
          "name": "stdout",
          "text": [
            "먹고 싶은 과일은? :배\n",
            "배 맛있게 드세요\n",
            "먹고 싶은 과일은? :사과\n",
            "사과 준비되어 있지 않습니다\n",
            "각 과일 당 최소 5개는 되도록 구입합니다\n",
            "구입에 필요한 총 금액은 : 44000 원 입니다\n",
            "먹고 싶은 과일은? :배\n",
            "배 맛있게 드세요\n",
            "먹고 싶은 과일은? :배\n",
            "배 맛있게 드세요\n"
          ]
        },
        {
          "output_type": "error",
          "ename": "KeyboardInterrupt",
          "evalue": "ignored",
          "traceback": [
            "\u001b[0;31m---------------------------------------------------------------------------\u001b[0m",
            "\u001b[0;31mKeyboardInterrupt\u001b[0m                         Traceback (most recent call last)",
            "\u001b[0;32m<ipython-input-11-e31efe0d32a5>\u001b[0m in \u001b[0;36m<cell line: 4>\u001b[0;34m()\u001b[0m\n\u001b[1;32m      2\u001b[0m \u001b[0;34m\u001b[0m\u001b[0m\n\u001b[1;32m      3\u001b[0m \u001b[0;32mwhile\u001b[0m \u001b[0;32mTrue\u001b[0m\u001b[0;34m:\u001b[0m\u001b[0;34m\u001b[0m\u001b[0;34m\u001b[0m\u001b[0m\n\u001b[0;32m----> 4\u001b[0;31m     \u001b[0mwanted\u001b[0m \u001b[0;34m=\u001b[0m \u001b[0minput\u001b[0m\u001b[0;34m(\u001b[0m\u001b[0;34m\"먹고 싶은 과일은? :\"\u001b[0m\u001b[0;34m)\u001b[0m\u001b[0;34m\u001b[0m\u001b[0;34m\u001b[0m\u001b[0m\n\u001b[0m\u001b[1;32m      5\u001b[0m     \u001b[0;32mif\u001b[0m \u001b[0mwanted\u001b[0m \u001b[0;32mnot\u001b[0m \u001b[0;32min\u001b[0m \u001b[0mfruit\u001b[0m\u001b[0;34m:\u001b[0m\u001b[0;34m\u001b[0m\u001b[0;34m\u001b[0m\u001b[0m\n\u001b[1;32m      6\u001b[0m         \u001b[0mprint\u001b[0m\u001b[0;34m(\u001b[0m\u001b[0mwanted\u001b[0m \u001b[0;34m+\u001b[0m \u001b[0;34m\" 준비되어 있지 않습니다\"\u001b[0m\u001b[0;34m)\u001b[0m\u001b[0;34m\u001b[0m\u001b[0;34m\u001b[0m\u001b[0m\n",
            "\u001b[0;32m/usr/local/lib/python3.9/dist-packages/ipykernel/kernelbase.py\u001b[0m in \u001b[0;36mraw_input\u001b[0;34m(self, prompt)\u001b[0m\n\u001b[1;32m    849\u001b[0m                 \u001b[0;34m\"raw_input was called, but this frontend does not support input requests.\"\u001b[0m\u001b[0;34m\u001b[0m\u001b[0;34m\u001b[0m\u001b[0m\n\u001b[1;32m    850\u001b[0m             )\n\u001b[0;32m--> 851\u001b[0;31m         return self._input_request(str(prompt),\n\u001b[0m\u001b[1;32m    852\u001b[0m             \u001b[0mself\u001b[0m\u001b[0;34m.\u001b[0m\u001b[0m_parent_ident\u001b[0m\u001b[0;34m,\u001b[0m\u001b[0;34m\u001b[0m\u001b[0;34m\u001b[0m\u001b[0m\n\u001b[1;32m    853\u001b[0m             \u001b[0mself\u001b[0m\u001b[0;34m.\u001b[0m\u001b[0m_parent_header\u001b[0m\u001b[0;34m,\u001b[0m\u001b[0;34m\u001b[0m\u001b[0;34m\u001b[0m\u001b[0m\n",
            "\u001b[0;32m/usr/local/lib/python3.9/dist-packages/ipykernel/kernelbase.py\u001b[0m in \u001b[0;36m_input_request\u001b[0;34m(self, prompt, ident, parent, password)\u001b[0m\n\u001b[1;32m    893\u001b[0m             \u001b[0;32mexcept\u001b[0m \u001b[0mKeyboardInterrupt\u001b[0m\u001b[0;34m:\u001b[0m\u001b[0;34m\u001b[0m\u001b[0;34m\u001b[0m\u001b[0m\n\u001b[1;32m    894\u001b[0m                 \u001b[0;31m# re-raise KeyboardInterrupt, to truncate traceback\u001b[0m\u001b[0;34m\u001b[0m\u001b[0;34m\u001b[0m\u001b[0m\n\u001b[0;32m--> 895\u001b[0;31m                 \u001b[0;32mraise\u001b[0m \u001b[0mKeyboardInterrupt\u001b[0m\u001b[0;34m(\u001b[0m\u001b[0;34m\"Interrupted by user\"\u001b[0m\u001b[0;34m)\u001b[0m \u001b[0;32mfrom\u001b[0m \u001b[0;32mNone\u001b[0m\u001b[0;34m\u001b[0m\u001b[0;34m\u001b[0m\u001b[0m\n\u001b[0m\u001b[1;32m    896\u001b[0m             \u001b[0;32mexcept\u001b[0m \u001b[0mException\u001b[0m \u001b[0;32mas\u001b[0m \u001b[0me\u001b[0m\u001b[0;34m:\u001b[0m\u001b[0;34m\u001b[0m\u001b[0;34m\u001b[0m\u001b[0m\n\u001b[1;32m    897\u001b[0m                 \u001b[0mself\u001b[0m\u001b[0;34m.\u001b[0m\u001b[0mlog\u001b[0m\u001b[0;34m.\u001b[0m\u001b[0mwarning\u001b[0m\u001b[0;34m(\u001b[0m\u001b[0;34m\"Invalid Message:\"\u001b[0m\u001b[0;34m,\u001b[0m \u001b[0mexc_info\u001b[0m\u001b[0;34m=\u001b[0m\u001b[0;32mTrue\u001b[0m\u001b[0;34m)\u001b[0m\u001b[0;34m\u001b[0m\u001b[0;34m\u001b[0m\u001b[0m\n",
            "\u001b[0;31mKeyboardInterrupt\u001b[0m: Interrupted by user"
          ]
        }
      ]
    },
    {
      "cell_type": "markdown",
      "source": [
        "1. chatgpt for google\n",
        "2. 프롬포트 지니"
      ],
      "metadata": {
        "id": "3dB6B9acLV5r"
      }
    },
    {
      "cell_type": "code",
      "source": [],
      "metadata": {
        "id": "27hcjSF0LdJV"
      },
      "execution_count": null,
      "outputs": []
    },
    {
      "cell_type": "code",
      "source": [
        "import re\n",
        "\n",
        "def check_password(password):\n",
        "    # 최소 8자리, 14자리 미만\n",
        "    if len(password) < 8 or len(password) >= 14:\n",
        "        return False\n",
        "    \n",
        "    # 영문자, 숫자를 제외한 다른 문자가 있으면 False\n",
        "    if not re.match(\"^[a-zA-Z0-9]*$\", password):\n",
        "        return False\n",
        "    \n",
        "    # 영문자로만 구성되었으면 False\n",
        "    if password.isalpha():\n",
        "        return False\n",
        "    \n",
        "    # 숫자로만 구성되었으면 False\n",
        "    if password.isnumeric():\n",
        "        return False\n",
        "    \n",
        "    # 최소한 2개의 숫자를 가지고 있어야 함\n",
        "    if len(re.findall(\"[0-9]\", password)) < 2:\n",
        "        return False\n",
        "    \n",
        "    return True\n",
        "\n",
        "count = 1\n",
        "while count <= 5:\n",
        "    password = input(\"패스워드를 입력하세요: \")\n",
        "    if check_password(password):\n",
        "        print(\"유효한 패스워드입니다.\")\n",
        "        break\n",
        "    else:\n",
        "        print(\"유효하지 않은 패스워드입니다.\")\n",
        "        count += 1\n",
        "        \n",
        "    if count > 5:\n",
        "        print(\"5번 이상 실패하여 종료합니다.\")\n"
      ],
      "metadata": {
        "colab": {
          "base_uri": "https://localhost:8080/",
          "height": 400
        },
        "id": "J7RCZpDfEAF7",
        "outputId": "f684c1a1-ea6d-4cba-d3e7-feb9f3582217"
      },
      "execution_count": null,
      "outputs": [
        {
          "output_type": "error",
          "ename": "KeyboardInterrupt",
          "evalue": "ignored",
          "traceback": [
            "\u001b[0;31m---------------------------------------------------------------------------\u001b[0m",
            "\u001b[0;31mKeyboardInterrupt\u001b[0m                         Traceback (most recent call last)",
            "\u001b[0;32m<ipython-input-12-cc5e0d64501e>\u001b[0m in \u001b[0;36m<cell line: 27>\u001b[0;34m()\u001b[0m\n\u001b[1;32m     26\u001b[0m \u001b[0mcount\u001b[0m \u001b[0;34m=\u001b[0m \u001b[0;36m1\u001b[0m\u001b[0;34m\u001b[0m\u001b[0;34m\u001b[0m\u001b[0m\n\u001b[1;32m     27\u001b[0m \u001b[0;32mwhile\u001b[0m \u001b[0mcount\u001b[0m \u001b[0;34m<=\u001b[0m \u001b[0;36m5\u001b[0m\u001b[0;34m:\u001b[0m\u001b[0;34m\u001b[0m\u001b[0;34m\u001b[0m\u001b[0m\n\u001b[0;32m---> 28\u001b[0;31m     \u001b[0mpassword\u001b[0m \u001b[0;34m=\u001b[0m \u001b[0minput\u001b[0m\u001b[0;34m(\u001b[0m\u001b[0;34m\"패스워드를 입력하세요: \"\u001b[0m\u001b[0;34m)\u001b[0m\u001b[0;34m\u001b[0m\u001b[0;34m\u001b[0m\u001b[0m\n\u001b[0m\u001b[1;32m     29\u001b[0m     \u001b[0;32mif\u001b[0m \u001b[0mcheck_password\u001b[0m\u001b[0;34m(\u001b[0m\u001b[0mpassword\u001b[0m\u001b[0;34m)\u001b[0m\u001b[0;34m:\u001b[0m\u001b[0;34m\u001b[0m\u001b[0;34m\u001b[0m\u001b[0m\n\u001b[1;32m     30\u001b[0m         \u001b[0mprint\u001b[0m\u001b[0;34m(\u001b[0m\u001b[0;34m\"유효한 패스워드입니다.\"\u001b[0m\u001b[0;34m)\u001b[0m\u001b[0;34m\u001b[0m\u001b[0;34m\u001b[0m\u001b[0m\n",
            "\u001b[0;32m/usr/local/lib/python3.9/dist-packages/ipykernel/kernelbase.py\u001b[0m in \u001b[0;36mraw_input\u001b[0;34m(self, prompt)\u001b[0m\n\u001b[1;32m    849\u001b[0m                 \u001b[0;34m\"raw_input was called, but this frontend does not support input requests.\"\u001b[0m\u001b[0;34m\u001b[0m\u001b[0;34m\u001b[0m\u001b[0m\n\u001b[1;32m    850\u001b[0m             )\n\u001b[0;32m--> 851\u001b[0;31m         return self._input_request(str(prompt),\n\u001b[0m\u001b[1;32m    852\u001b[0m             \u001b[0mself\u001b[0m\u001b[0;34m.\u001b[0m\u001b[0m_parent_ident\u001b[0m\u001b[0;34m,\u001b[0m\u001b[0;34m\u001b[0m\u001b[0;34m\u001b[0m\u001b[0m\n\u001b[1;32m    853\u001b[0m             \u001b[0mself\u001b[0m\u001b[0;34m.\u001b[0m\u001b[0m_parent_header\u001b[0m\u001b[0;34m,\u001b[0m\u001b[0;34m\u001b[0m\u001b[0;34m\u001b[0m\u001b[0m\n",
            "\u001b[0;32m/usr/local/lib/python3.9/dist-packages/ipykernel/kernelbase.py\u001b[0m in \u001b[0;36m_input_request\u001b[0;34m(self, prompt, ident, parent, password)\u001b[0m\n\u001b[1;32m    893\u001b[0m             \u001b[0;32mexcept\u001b[0m \u001b[0mKeyboardInterrupt\u001b[0m\u001b[0;34m:\u001b[0m\u001b[0;34m\u001b[0m\u001b[0;34m\u001b[0m\u001b[0m\n\u001b[1;32m    894\u001b[0m                 \u001b[0;31m# re-raise KeyboardInterrupt, to truncate traceback\u001b[0m\u001b[0;34m\u001b[0m\u001b[0;34m\u001b[0m\u001b[0m\n\u001b[0;32m--> 895\u001b[0;31m                 \u001b[0;32mraise\u001b[0m \u001b[0mKeyboardInterrupt\u001b[0m\u001b[0;34m(\u001b[0m\u001b[0;34m\"Interrupted by user\"\u001b[0m\u001b[0;34m)\u001b[0m \u001b[0;32mfrom\u001b[0m \u001b[0;32mNone\u001b[0m\u001b[0;34m\u001b[0m\u001b[0;34m\u001b[0m\u001b[0m\n\u001b[0m\u001b[1;32m    896\u001b[0m             \u001b[0;32mexcept\u001b[0m \u001b[0mException\u001b[0m \u001b[0;32mas\u001b[0m \u001b[0me\u001b[0m\u001b[0;34m:\u001b[0m\u001b[0;34m\u001b[0m\u001b[0;34m\u001b[0m\u001b[0m\n\u001b[1;32m    897\u001b[0m                 \u001b[0mself\u001b[0m\u001b[0;34m.\u001b[0m\u001b[0mlog\u001b[0m\u001b[0;34m.\u001b[0m\u001b[0mwarning\u001b[0m\u001b[0;34m(\u001b[0m\u001b[0;34m\"Invalid Message:\"\u001b[0m\u001b[0;34m,\u001b[0m \u001b[0mexc_info\u001b[0m\u001b[0;34m=\u001b[0m\u001b[0;32mTrue\u001b[0m\u001b[0;34m)\u001b[0m\u001b[0;34m\u001b[0m\u001b[0;34m\u001b[0m\u001b[0m\n",
            "\u001b[0;31mKeyboardInterrupt\u001b[0m: Interrupted by user"
          ]
        }
      ]
    },
    {
      "cell_type": "markdown",
      "source": [
        "사용자로부터 패스워드를 입력 받아 유효한 패스워드인지 검사하는 코드를 작성하시오. (아래의 조건에 맞게 코딩할 것)\n",
        "\n",
        "① 패스워드 유효성 검사 기능은 함수로 구현 할 것\n",
        "\n",
        "② 함수에서는 입력 받은 패스워드의 다음 조건을 체크 패스워드는 최소한 8자리 이상, 14자리 미만이면 False 반환\n",
        "영문자, 숫자를 제외한 다른 문자가 있으면 False 반환 영문자로만 구성되었으면 False 반환 숫자로만 구성되었으면 False 반환 패스워드는 최소한 2개의 숫자를 가지고 있어야 함\n",
        "\n",
        "③ 총 5번의 패스워드 유효성 검사, 유효하면 종료함\n",
        "\n"
      ],
      "metadata": {
        "id": "DvKSJfqyKQMR"
      }
    }
  ]
}