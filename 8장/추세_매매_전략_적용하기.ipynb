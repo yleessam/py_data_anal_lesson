{
  "nbformat": 4,
  "nbformat_minor": 0,
  "metadata": {
    "colab": {
      "private_outputs": true,
      "provenance": [],
      "toc_visible": true,
      "include_colab_link": true
    },
    "kernelspec": {
      "name": "python3",
      "display_name": "Python 3"
    },
    "language_info": {
      "name": "python"
    }
  },
  "cells": [
    {
      "cell_type": "markdown",
      "metadata": {
        "id": "view-in-github",
        "colab_type": "text"
      },
      "source": [
        "<a href=\"https://colab.research.google.com/github/yleessam/py_data_anal_lesson/blob/main/8%EC%9E%A5/%EC%B6%94%EC%84%B8_%EB%A7%A4%EB%A7%A4_%EC%A0%84%EB%9E%B5_%EC%A0%81%EC%9A%A9%ED%95%98%EA%B8%B0.ipynb\" target=\"_parent\"><img src=\"https://colab.research.google.com/assets/colab-badge.svg\" alt=\"Open In Colab\"/></a>"
      ]
    },
    {
      "cell_type": "markdown",
      "source": [
        "# 환경설정"
      ],
      "metadata": {
        "id": "GRZYRwPNp86a"
      }
    },
    {
      "cell_type": "code",
      "source": [
        " !pip install pykrx"
      ],
      "metadata": {
        "id": "a6QvyjkLdCL1",
        "collapsed": true
      },
      "execution_count": null,
      "outputs": []
    },
    {
      "cell_type": "code",
      "source": [
        "# (라이브러리 설치 후 런타임 재시작 필요)\n",
        "!sudo apt-get install -y fonts-nanum\n",
        "!sudo fc-cache -fv\n",
        "!rm ~/.cache/matplotlib -rf"
      ],
      "metadata": {
        "id": "VI7HQFW4t27y"
      },
      "execution_count": null,
      "outputs": []
    },
    {
      "cell_type": "code",
      "source": [
        "import numpy as np\n",
        "import pandas as pd\n",
        "import matplotlib.pyplot as plt\n",
        "import seaborn as sns\n",
        "import plotly.express as px\n",
        "\n",
        "# Matplotlib 한글 폰트 설정\n",
        "plt.rc('font', family='NanumBarunGothic')"
      ],
      "metadata": {
        "id": "R9oSawynOQi_"
      },
      "execution_count": null,
      "outputs": []
    },
    {
      "cell_type": "markdown",
      "source": [
        "-----"
      ],
      "metadata": {
        "id": "IoPIixKewNb3"
      }
    },
    {
      "cell_type": "markdown",
      "source": [
        "# 이동평균(MA, Moving Average)이란?\n",
        "\n",
        "- 일정한 기간 동안의 종가를 평균으로 나타낸 것\n",
        "- 예) 20선: 20일 동안의 평균 종가\n",
        "- 주로 20일, 50일, 200일 이동 평균을 활용\n"
      ],
      "metadata": {
        "id": "AyZx8wgSun5p"
      }
    },
    {
      "cell_type": "markdown",
      "source": [
        "## 이동 평균의 활용\n"
      ],
      "metadata": {
        "id": "Yi49en9AutRd"
      }
    },
    {
      "cell_type": "markdown",
      "source": [
        "### 지지영역, 저항영역 분석\n",
        "\n",
        "- 주가는 평균에서 너무 멀리 벗어나면 다시 평균값으로 환원하려는 경향이 있음\n",
        "- 이동 평균선은 주가 추세가 일정 구간을 벗어나려고 할 때 제동을 거는 장벽 역할을 하므로,  지지영역, 저항영역을 분석하는데 활용\n"
      ],
      "metadata": {
        "id": "x6gjT3eRuu0e"
      }
    },
    {
      "cell_type": "markdown",
      "source": [
        "\n",
        "### 현 추세의 방향과 강도를 결정\n",
        "\n",
        "- 추세의 방향\n",
        "    - 이동 평균이 ‘**상승곡선**’일 경우: 주가의 추세도 상승\n",
        "    - 이동 평균이 **‘하락곡선’**일 경우: 주가의 추세도 하락\n",
        "    - 이동 평균이 **‘수평이거나 오르내림을 반복**’할 경우: 시장이 박스권 등락 국면임\n",
        "- 추세의 강도\n",
        "    - 경사가 가파르면 추세가 강하고, 경사가 비스듬하면 추세가 약하다."
      ],
      "metadata": {
        "id": "Z4zK_AxKu0CT"
      }
    },
    {
      "cell_type": "markdown",
      "source": [
        "---"
      ],
      "metadata": {
        "id": "dKi7tdcbwA3L"
      }
    },
    {
      "cell_type": "markdown",
      "source": [
        "## 주가 가져오기"
      ],
      "metadata": {
        "id": "Wv6XNxjnqAQF"
      }
    },
    {
      "cell_type": "code",
      "source": [
        "from pykrx import stock\n",
        "\n",
        "start_date = \"20210101\"\n",
        "end_date = \"20230412\"\n",
        "today = \"20230412\"\n",
        "ticker = \"373220\" # LG에너지 솔루션\n",
        "df = stock.get_market_ohlcv(start_date, end_date, ticker)\n",
        "df.head(3)"
      ],
      "metadata": {
        "id": "-FYOaCpMMosu"
      },
      "execution_count": null,
      "outputs": []
    },
    {
      "cell_type": "markdown",
      "source": [
        "## 이동평균 구하기"
      ],
      "metadata": {
        "id": "ds5tyvTCy2iA"
      }
    },
    {
      "cell_type": "code",
      "source": [
        "df['ma5'] = df['종가'].rolling(5).mean()\n",
        "df['ma20'] = df['종가'].rolling(20).mean()\n",
        "df['ma100'] = df['종가'].rolling(100).mean()\n",
        "df['ma200'] = df['종가'].rolling(200).mean()"
      ],
      "metadata": {
        "id": "vFYuEbfxwVN8"
      },
      "execution_count": null,
      "outputs": []
    },
    {
      "cell_type": "code",
      "source": [
        "df.head()"
      ],
      "metadata": {
        "id": "yM1z5fUKw0ZC"
      },
      "execution_count": null,
      "outputs": []
    },
    {
      "cell_type": "markdown",
      "source": [
        "## 이동평균 시각화"
      ],
      "metadata": {
        "id": "M0GubGKRy5nG"
      }
    },
    {
      "cell_type": "code",
      "source": [
        "import plotly.express as px\n",
        "df1 = df[['종가', 'ma5', 'ma20', 'ma100', 'ma200']]\n",
        "fig = px.line(df1,  y=df1.columns,\n",
        "              title='이동평균선')\n",
        "fig.update_xaxes(\n",
        "    dtick=\"M1\",\n",
        "    tickformat=\"%b\\n%Y\",\n",
        "    ticklabelmode=\"period\")\n",
        "fig.show()"
      ],
      "metadata": {
        "id": "PlxcKGNXw4EO"
      },
      "execution_count": null,
      "outputs": []
    },
    {
      "cell_type": "markdown",
      "source": [
        "# [스토캐스틱(Stochastic)]( https://ko.wikipedia.org/wiki/%EC%8A%A4%ED%86%A0%EC%BA%90%EC%8A%A4%ED%8B%B1)\n",
        "- 최근 N일간의 최고가와 최저가의 범위 내에서 현재 가격의 위치를 표시\n",
        "- **매수세** > 매도세: 현재 가격의 위치가 높게 형성됨\n",
        "- **매도세** > 매수세: 현재 가격의 위치가 낮게 형성됨\n",
        "\n",
        "$$스토캐스틱N = \\frac{(현재 가격 - N일 중 최저가)}{(N일 중 최고가 - N일중 최저가)}$$\n",
        "\n",
        "- 스토캐스틱 값의 범위는 항상 0~100% 사이\n",
        "    - 스토캐스틱 = **100%**: 현재 가격이 N일간 최고가, 매수세가 강함\n",
        "    - 스토캐스틱 = **0%**: 현재 가격이 N일간 최저가, 매도세가 강함함\n",
        "    - 스토캐스틱 >= **80%**: 과매수 상태(하락 가능성이 커짐),\n",
        "    - 스토캐스틱 <= **20%**: 과매도 상태(상승 가능성이 커짐)\n",
        "    "
      ],
      "metadata": {
        "id": "M3PA9zZibmEU"
      }
    },
    {
      "cell_type": "markdown",
      "source": [
        "----\n",
        "(예)\n",
        "```\n",
        "최근 5일간 최고가가 15,000원이고 최저가가 10,000원인 주식\n",
        "```\n",
        "- 현재가가 14,000원이라면?\n",
        "    - 매수세가 강하여 오르는 추세임\n",
        "    - 스토캐스틱 값은 80%\n",
        "- 현재가가 11,000원이라면?\n",
        "    - 매도세가 강하여 내리는 추세임\n",
        "    - 스토캐스틱 값은 20%\n",
        "----"
      ],
      "metadata": {
        "id": "DNfOK_67oK5V"
      }
    },
    {
      "cell_type": "markdown",
      "source": [
        "## Fast Stochastic 공식\n",
        "\n",
        "\n",
        "$$Fast \\%K = \\frac{(현재 가격 - N일 중 최저가)}{(N일 중 최고가 - N일중 최저가)}$$\n",
        "<br>\n",
        "$$Fast \\%D = Fask \\%K의 m기간 이동평균$$\n",
        "<br>\n",
        "- 일반적으로 N=5. m=3을 사용\n",
        "- N을 10으로 사용할 경우, m=6으로 사용\n",
        "\n"
      ],
      "metadata": {
        "id": "7M5V5jlMpilp"
      }
    },
    {
      "cell_type": "markdown",
      "source": [
        "\n",
        "## Slow Stochastic 공식\n",
        "\n",
        "$$Slow\\%K = Fast\\%K의 m기간 이동평균$$\n",
        "<br>\n",
        "$$Slow\\%D = Slow\\%K의 t기간 이동평균$$\n",
        "<br>\n",
        "\n",
        "- Slow Stochastic에서는 n(5)-m(3)-t(3) 공식이 가장 많이 사용\n",
        "- 네이버금융은 n(15)-m(5)-t(3)을 사용\n",
        "\n",
        "- Fast Stochastic은 그래프의 변화가 너무 잦고 급격하여 노이즈 즉 가짜 신호가 많아 매수 매도시 참고하기 어렵다는 문제점이 있기 때문에 일반적으로 Slow Stochastic을 사용\n",
        "\n",
        "\n",
        "\n",
        "\n",
        ""
      ],
      "metadata": {
        "id": "EmSUVoUfDG5X"
      }
    },
    {
      "cell_type": "markdown",
      "source": [
        "## 스토캐스틱 구하기"
      ],
      "metadata": {
        "id": "Ra1JayY7qDgL"
      }
    },
    {
      "cell_type": "code",
      "source": [
        "# Fast %K = ((현재가 - n기간 중 최저가) / (n기간 중 최고가 - n기간 중 최저가)) * 100\n",
        "def get_stochastic_fast_k(close_price, low, high, n=5):\n",
        "  fast_k = ((close_price - low.rolling(n).min()) / (high.rolling(n).max() - low.rolling(n).min())) * 100\n",
        "  return fast_k\n",
        "\n",
        "# Slow %K = Fast %K의 m기간 이동평균\n",
        "def get_stochastic_slow_k(fast_k, n=3):\n",
        "  slow_k = fast_k.rolling(n).mean()\n",
        "  return slow_k\n",
        "\n",
        "# Slow %D = Slow %K의 t기간 이동평균\n",
        "def get_stochastic_slow_d(slow_k, n=3):\n",
        "  slow_d = slow_k.rolling(n).mean()\n",
        "  return slow_d"
      ],
      "metadata": {
        "id": "08d30mbPNsR6"
      },
      "execution_count": null,
      "outputs": []
    },
    {
      "cell_type": "markdown",
      "source": [
        "스토캐스틱 구하기"
      ],
      "metadata": {
        "id": "rGcOZCEZqMvC"
      }
    },
    {
      "cell_type": "code",
      "source": [
        "# fast_k, slow_k, slow_d를 획득\n",
        "df['fast_k'] = get_stochastic_fast_k(df['종가'], df['저가'], df['고가'], 5)\n",
        "df['slow_k'] = get_stochastic_slow_k(df['fast_k'], 3)\n",
        "df['slow_d'] = get_stochastic_slow_d(df['slow_k'], 3)"
      ],
      "metadata": {
        "id": "I3N9NgBuOw56"
      },
      "execution_count": null,
      "outputs": []
    },
    {
      "cell_type": "markdown",
      "source": [
        "## 스토캐스틱 시각화"
      ],
      "metadata": {
        "id": "GXkwlxdFqS_e"
      }
    },
    {
      "cell_type": "code",
      "source": [
        "from plotly.subplots import make_subplots\n",
        "import plotly.graph_objects as go\n",
        "\n",
        "# Create figure with secondary y-axis\n",
        "fig = make_subplots(specs=[[{\"secondary_y\": True}]])\n",
        "\n",
        "fig.add_trace(\n",
        "    go.Line(x = df.index, y = df['종가'], name='종가'),\n",
        "    secondary_y= True\n",
        ")\n",
        "\n",
        "# Add traces\n",
        "fig.add_trace(\n",
        "    go.Line(x = df.index, y = df['slow_k'], name='slow_k'),\n",
        "    secondary_y= False\n",
        ")\n",
        "\n",
        "# Add traces\n",
        "fig.add_trace(\n",
        "    go.Line(x = df.index, y = df['slow_d'], name='slow_d'),\n",
        "    secondary_y= False\n",
        ")\n",
        "\n",
        "# Add traces\n",
        "fig.add_trace(\n",
        "    go.Line(x = df.index, y=[80] * len(df.index), name='80선'),\n",
        "    secondary_y= False\n",
        ")\n",
        "\n",
        "# Add traces\n",
        "fig.add_trace(\n",
        "    go.Line(x = df.index, y=[20] * len(df.index), name='20선'),\n",
        "    secondary_y= False\n",
        ")\n",
        "\n",
        "fig.update_xaxes(\n",
        "    rangeslider_visible=True,\n",
        "    rangeselector=dict(\n",
        "        buttons=list([\n",
        "            dict(count=1, label=\"1m\", step=\"month\", stepmode=\"backward\"),\n",
        "            dict(count=6, label=\"6m\", step=\"month\", stepmode=\"backward\"),\n",
        "            dict(count=1, label=\"YTD\", step=\"year\", stepmode=\"todate\"),\n",
        "            dict(count=1, label=\"1y\", step=\"year\", stepmode=\"backward\"),\n",
        "            dict(step=\"all\")\n",
        "        ])\n",
        "    )\n",
        ")\n",
        "\n",
        "# Set y-axes titles\n",
        "fig.update_yaxes(title_text=\"<b>stocastic</b> axis\", secondary_y=False)\n",
        "fig.update_yaxes(title_text=\"<b>종가</b> axis\", secondary_y=True)\n",
        "\n",
        "fig.show()"
      ],
      "metadata": {
        "id": "PurBLdRfPGt_"
      },
      "execution_count": null,
      "outputs": []
    },
    {
      "cell_type": "markdown",
      "source": [
        "## 골든크로스\n",
        "- 단기이동평균선이 장기이동평균선을 뚫고 상승하는 것\n",
        "- 스토캐스틱 20 이하에서 %K선이 %D선을 상향 돌파\n",
        "- 매수 시점"
      ],
      "metadata": {
        "id": "8fktMYwBsgog"
      }
    },
    {
      "cell_type": "code",
      "source": [
        "df.query('(slow_k >= slow_d) and (slow_k <= 20)')"
      ],
      "metadata": {
        "id": "6MDdZQg5qdYt"
      },
      "execution_count": null,
      "outputs": []
    },
    {
      "cell_type": "markdown",
      "source": [
        "## 데드크로스\n",
        "- 단기이동평균선이 장기이동평균선을 뚫고 하락하는 것\n",
        "- 스토캐스틱 80 이상상에서 %K선이 %D선을 하향 돌파\n",
        "- 매도 시점\n"
      ],
      "metadata": {
        "id": "73uTDCE6tMNd"
      }
    },
    {
      "cell_type": "code",
      "source": [
        "df.query('(slow_k <= slow_d) and (slow_k >= 80)')"
      ],
      "metadata": {
        "id": "pafyxg4fqxEE"
      },
      "execution_count": null,
      "outputs": []
    }
  ]
}