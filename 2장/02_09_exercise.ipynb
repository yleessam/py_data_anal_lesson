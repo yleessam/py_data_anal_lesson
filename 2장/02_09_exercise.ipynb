{
  "cells": [
    {
      "cell_type": "markdown",
      "metadata": {
        "id": "view-in-github",
        "colab_type": "text"
      },
      "source": [
        "<a href=\"https://colab.research.google.com/github/yleessam/py_data_anal_lesson/blob/main/2%EC%9E%A5/02_09_exercise.ipynb\" target=\"_parent\"><img src=\"https://colab.research.google.com/assets/colab-badge.svg\" alt=\"Open In Colab\"/></a>"
      ]
    },
    {
      "cell_type": "markdown",
      "metadata": {
        "id": "VlFAGaG4As9r"
      },
      "source": [
        "# 초등학교 1학년 수학 문제 생성 프로그램\n",
        "- Level1: 한 자리수 더하기 다섯 문제를 생성해서 화면에 출력(중복 문제 허용, 0~9까지)\n",
        "- Level2: 한 자리수 빼기 다섯 문제를 생성해서 화면에 출력(중복 문제 허용, 0~9까지, 마이너스 정답 없음)\n",
        "- Level3: 한 자리수 더하기 다섯 문제, 한자리수 빼기 다섯 문제를 생성하여 텍스트 파일에 저장\n",
        "- Level4: 한 자리수 더하기 다섯 문제, 한자리수 빼기 다섯 문제를 생성하고, 학생 이름과 00일차 문제를 표시하여 파일에 저장\n",
        "- Level5: 30일치 문제를 생성하여 저장(1일치 문제는 한 자리수 더하기 다섯 문제, 한자리수 빼기 다섯 문제로 구성)\n",
        "- Level6: 30일치 문제와 정답을 생성하여 저장(1일치 문제는 한 자리수 더하기 다섯 문제, 한자리수 빼기 다섯 문제로 구성)"
      ]
    },
    {
      "cell_type": "markdown",
      "metadata": {
        "id": "bPrv7VdeAs-A"
      },
      "source": [
        "## level1\n",
        "한 자리수 더하기 다섯 문제를 생성해서 화면에 출력(중복 문제 허용, 0~9까지)"
      ]
    },
    {
      "cell_type": "code",
      "execution_count": null,
      "metadata": {
        "colab": {
          "base_uri": "https://localhost:8080/"
        },
        "id": "s-hnTRZ8As-D",
        "outputId": "d2798631-8b82-4fdf-d494-bb11f98f333d"
      },
      "outputs": [
        {
          "output_type": "stream",
          "name": "stdout",
          "text": [
            "1. 8 + 5 = \n",
            "2. 3 + 8 = \n",
            "3. 4 + 8 = \n",
            "4. 2 + 8 = \n",
            "5. 0 + 8 = \n"
          ]
        }
      ],
      "source": [
        "import random\n",
        "\n",
        "for i in range(5):\n",
        "    a = random.randint(0,9)\n",
        "    b = random.randint(0,9)\n",
        "    question = \"{}. {} + {} = \"\n",
        "    print(question.format(i+1, a, b))"
      ]
    },
    {
      "cell_type": "markdown",
      "metadata": {
        "id": "kvxidHFJAs-L"
      },
      "source": [
        "## level2"
      ]
    },
    {
      "cell_type": "markdown",
      "source": [
        "한 자리수 빼기 다섯 문제를 생성해서 화면에 출력(중복 문제 허용, 0~9까지, 마이너스 정답 없음)"
      ],
      "metadata": {
        "id": "CFqiKy_gBP7K"
      }
    },
    {
      "cell_type": "code",
      "execution_count": null,
      "metadata": {
        "colab": {
          "base_uri": "https://localhost:8080/"
        },
        "id": "NN0U2df8As-N",
        "outputId": "400b4bb3-2c00-4ea7-af88-5046b6f7d7ad"
      },
      "outputs": [
        {
          "output_type": "stream",
          "name": "stdout",
          "text": [
            "1. 9 - 0 = \n",
            "2. 9 - 2 = \n",
            "3. 6 - 3 = \n",
            "4. 7 - 2 = \n",
            "5. 6 - 4 = \n"
          ]
        }
      ],
      "source": [
        "for i in range(5):\n",
        "    a = random.randint(0,9)\n",
        "    b = random.randint(0,9)\n",
        "    question = \"{}. {} - {} = \"\n",
        "    if a >= b:\n",
        "        print(question.format(i+1, a, b))\n",
        "    else:\n",
        "        print(question.format(i+1, b, a))"
      ]
    },
    {
      "cell_type": "markdown",
      "metadata": {
        "id": "7x5rHY6jAs-R"
      },
      "source": [
        "## level3"
      ]
    },
    {
      "cell_type": "markdown",
      "source": [
        "한 자리수 더하기 다섯 문제, 한자리수 빼기 다섯 문제를 생성하여 텍스트 파일에 저장"
      ],
      "metadata": {
        "id": "t49FFOVuBWB6"
      }
    },
    {
      "cell_type": "code",
      "execution_count": null,
      "metadata": {
        "id": "gkJeK6Y0As-T"
      },
      "outputs": [],
      "source": [
        "def addCreator(num, file_name):\n",
        "    with open(file_name, \"a\") as f:\n",
        "        for i in range(num):\n",
        "            a = random.randint(0,9)\n",
        "            b = random.randint(0,9)\n",
        "            question = \"{}. {} + {} = \"\n",
        "            f.write(question.format(i+1, a, b))\n",
        "\n",
        "def minusCreator(num, file_name):\n",
        "    with open(file_name, \"a\") as f:\n",
        "        for i in range(num):\n",
        "            a = random.randint(0,9)\n",
        "            b = random.randint(0,9)\n",
        "            question = \"{}. {} - {} = \"\n",
        "            if a >= b:\n",
        "                f.write(question.format(i+1, a, b))\n",
        "            else:\n",
        "                f.write(question.format(i+1, b, a))\n",
        "\n",
        "file_name = \"math.txt\"\n",
        "addCreator(5, file_name)\n",
        "minusCreator(5, file_name)\n"
      ]
    },
    {
      "cell_type": "markdown",
      "source": [
        "## level4\n",
        "한 자리수 더하기 다섯 문제, 한자리수 빼기 다섯 문제를 생성하고, 학생 이름과 00일차 문제를 표시하여 파일에 저장\n"
      ],
      "metadata": {
        "id": "81nSUb-DBg3N"
      }
    },
    {
      "cell_type": "code",
      "source": [
        "def addCreator(num, file_name):\n",
        "    with open(file_name, \"a\") as f:\n",
        "        for i in range(num):\n",
        "            a = random.randint(0,9)\n",
        "            b = random.randint(0,9)\n",
        "            question = \"{}. {} + {} = \"\n",
        "            f.write(question.format(i+1, a, b))\n",
        "\n",
        "def minusCreator(num, file_name):\n",
        "    with open(file_name, \"a\") as f:\n",
        "        for i in range(num):\n",
        "            a = random.randint(0,9)\n",
        "            b = random.randint(0,9)\n",
        "            question = \"{}. {} - {} = \"\n",
        "            if a >= b:\n",
        "                f.write(question.format(i+1, a, b))\n",
        "            else:\n",
        "                f.write(question.format(i+1, b, a))\n",
        "student_name = input('학생 이름을 입력하세요: ')\n",
        "day = '1'\n",
        "file_name = f\"{student_name}_{day}일차 문제.txt\"\n",
        "addCreator(5, file_name)\n",
        "minusCreator(5, file_name)\n"
      ],
      "metadata": {
        "colab": {
          "base_uri": "https://localhost:8080/"
        },
        "id": "M2OBZO1wBjXr",
        "outputId": "d476eb29-498f-4fd8-8cfd-e7a01ff75c5f"
      },
      "execution_count": null,
      "outputs": [
        {
          "name": "stdout",
          "output_type": "stream",
          "text": [
            "학생 이름을 입력하세요: 홍길동\n"
          ]
        }
      ]
    },
    {
      "cell_type": "markdown",
      "source": [
        "## level5\n",
        "30일치 문제를 생성하여 저장(1일치 문제는 한 자리수 더하기 다섯 문제, 한자리수 빼기 다섯 문제로 구성)\n",
        "\n"
      ],
      "metadata": {
        "id": "2CCdYQQVBlQd"
      }
    },
    {
      "cell_type": "code",
      "source": [
        "def addCreator(num, file_name):\n",
        "    with open(file_name, \"a\") as f:\n",
        "        for i in range(num):\n",
        "            a = random.randint(0,9)\n",
        "            b = random.randint(0,9)\n",
        "            question = \"{}. {} + {} = \"\n",
        "            f.write(question.format(i+1, a, b))\n",
        "\n",
        "def minusCreator(num, file_name):\n",
        "    with open(file_name, \"a\") as f:\n",
        "        for i in range(num):\n",
        "            a = random.randint(0,9)\n",
        "            b = random.randint(0,9)\n",
        "            question = \"{}. {} - {} = \"\n",
        "            if a >= b:\n",
        "                f.write(question.format(i+1, a, b))\n",
        "            else:\n",
        "                f.write(question.format(i+1, b, a))\n",
        "student_name = input('학생 이름을 입력하세요: ')\n",
        "day = '00'\n",
        "\n",
        "for i in range(30):\n",
        "    day = str(i+1)\n",
        "    file_name = f\"{student_name}_{day}일차 문제.txt\"\n",
        "    addCreator(5, file_name)\n",
        "    minusCreator(5, file_name)"
      ],
      "metadata": {
        "colab": {
          "base_uri": "https://localhost:8080/"
        },
        "id": "97m3p4vpBlq4",
        "outputId": "54b0be67-e51b-4bdb-ff29-34abf8f2cc12"
      },
      "execution_count": null,
      "outputs": [
        {
          "name": "stdout",
          "output_type": "stream",
          "text": [
            "학생 이름을 입력하세요: 홍길동\n"
          ]
        }
      ]
    },
    {
      "cell_type": "markdown",
      "source": [
        "## level6\n",
        "30일치 문제와 정답을 생성하여 저장(1일치 문제는 한 자리수 더하기 다섯 문제, 한자리수 빼기 다섯 문제로 구성)"
      ],
      "metadata": {
        "id": "qUWaBf3bCpoL"
      }
    },
    {
      "cell_type": "code",
      "source": [
        "def addCreator(num, file_name):\n",
        "    with open(file_name, \"a\") as f:\n",
        "        answers = []\n",
        "        for i in range(num):\n",
        "            a = random.randint(0,9)\n",
        "            b = random.randint(0,9)\n",
        "            answer = a + b\n",
        "            answers.append(answer)\n",
        "            question = \"{}. {} + {} = \"\n",
        "            f.write(question.format(i+1, a, b))\n",
        "        f.write('정답:')\n",
        "\n",
        "        for a in answers:\n",
        "            f.write(str(a) + ' ')\n",
        "\n",
        "def minusCreator(num, file_name):\n",
        "    with open(file_name, \"a\") as f:\n",
        "        answers = []\n",
        "        for i in range(num):\n",
        "            a = random.randint(0,9)\n",
        "            b = random.randint(0,9)\n",
        "            question = \"{}. {} - {} = \"\n",
        "            if a >= b:\n",
        "                f.write(question.format(i+1, a, b))\n",
        "                answer = a - b\n",
        "            else:\n",
        "                f.write(question.format(i+1, b, a))\n",
        "                answer = b - a\n",
        "            answers.append(answer)\n",
        "\n",
        "            f.write('정답:')\n",
        "\n",
        "        for a in answers:\n",
        "            f.write(str(a) + ' ')\n",
        "\n",
        "student_name = input('학생 이름을 입력하세요: ')\n",
        "\n",
        "for i in range(30):\n",
        "    day = str(i+1)\n",
        "    file_name = f\"{student_name}_{day}일차 문제.txt\"\n",
        "    addCreator(5, file_name)\n",
        "    minusCreator(5, file_name)"
      ],
      "metadata": {
        "colab": {
          "base_uri": "https://localhost:8080/"
        },
        "id": "Mxj6zWRDCr9G",
        "outputId": "2bcfe86a-9ad8-43e2-8f9a-2f145d52fbc8"
      },
      "execution_count": null,
      "outputs": [
        {
          "name": "stdout",
          "output_type": "stream",
          "text": [
            "학생 이름을 입력하세요: 김갑순\n"
          ]
        }
      ]
    },
    {
      "cell_type": "code",
      "source": [],
      "metadata": {
        "id": "OXNzU_pREvi3"
      },
      "execution_count": null,
      "outputs": []
    }
  ],
  "metadata": {
    "kernelspec": {
      "display_name": "Python 3",
      "language": "python",
      "name": "python3"
    },
    "language_info": {
      "codemirror_mode": {
        "name": "ipython",
        "version": 3
      },
      "file_extension": ".py",
      "mimetype": "text/x-python",
      "name": "python",
      "nbconvert_exporter": "python",
      "pygments_lexer": "ipython3",
      "version": "3.7.6"
    },
    "toc": {
      "base_numbering": 1,
      "nav_menu": {},
      "number_sections": false,
      "sideBar": true,
      "skip_h1_title": false,
      "title_cell": "Table of Contents",
      "title_sidebar": "Contents",
      "toc_cell": false,
      "toc_position": {},
      "toc_section_display": true,
      "toc_window_display": false
    },
    "colab": {
      "provenance": [],
      "toc_visible": true,
      "include_colab_link": true
    }
  },
  "nbformat": 4,
  "nbformat_minor": 0
}