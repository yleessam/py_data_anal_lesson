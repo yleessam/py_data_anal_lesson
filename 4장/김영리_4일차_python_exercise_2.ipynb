{
  "nbformat": 4,
  "nbformat_minor": 0,
  "metadata": {
    "colab": {
      "provenance": [],
      "authorship_tag": "ABX9TyNj84CZAOB94n9P4yw9mOmB",
      "include_colab_link": true
    },
    "kernelspec": {
      "name": "python3",
      "display_name": "Python 3"
    },
    "language_info": {
      "name": "python"
    }
  },
  "cells": [
    {
      "cell_type": "markdown",
      "metadata": {
        "id": "view-in-github",
        "colab_type": "text"
      },
      "source": [
        "<a href=\"https://colab.research.google.com/github/yleessam/py_data_anal_lesson/blob/main/4%EC%9E%A5/%EA%B9%80%EC%98%81%EB%A6%AC_4%EC%9D%BC%EC%B0%A8_python_exercise_2.ipynb\" target=\"_parent\"><img src=\"https://colab.research.google.com/assets/colab-badge.svg\" alt=\"Open In Colab\"/></a>"
      ]
    },
    {
      "cell_type": "code",
      "execution_count": null,
      "metadata": {
        "colab": {
          "base_uri": "https://localhost:8080/"
        },
        "id": "tdaftfHe_Y20",
        "outputId": "23f79123-47f9-48e3-cce0-8c1b2dc3fc22"
      },
      "outputs": [
        {
          "output_type": "stream",
          "name": "stdout",
          "text": [
            "shirt\n"
          ]
        }
      ],
      "source": [
        "a = \"Life is too short, you need python\"\n",
        "\n",
        "if \"wife\" in a: \n",
        "  print(\"wife\")\n",
        "elif \"python\" in a and \"you\" not in a: \n",
        "  print(\"python\")\n",
        "\n",
        "elif \"shirt\" not in a:\n",
        "  print(\"shirt\")\n",
        "\n",
        "elif \"need\" in a: \n",
        "  print(\"need\")\n",
        "\n",
        "else: \n",
        "  print(\"none\")"
      ]
    },
    {
      "cell_type": "code",
      "source": [
        "i=0\n",
        "while True:\n",
        "  j = 0\n",
        "  while j <= i:\n",
        "      print(\"*\", end=\"\")\n",
        "      j += 1\n",
        "  print()\n",
        "  i += 1\n",
        "  if  j>4 : \n",
        "    break\n",
        "\n",
        "#결과값\n",
        "#*\n",
        "#**\n",
        "#***\n",
        "#****\n",
        "#*****\n",
        "     "
      ],
      "metadata": {
        "colab": {
          "base_uri": "https://localhost:8080/"
        },
        "id": "ZrUXkpd0_pSO",
        "outputId": "171e38cc-8545-4fca-d4c1-c59b74d214c1"
      },
      "execution_count": null,
      "outputs": [
        {
          "output_type": "stream",
          "name": "stdout",
          "text": [
            "*\n",
            "**\n",
            "***\n",
            "****\n",
            "*****\n"
          ]
        }
      ]
    },
    {
      "cell_type": "code",
      "source": [
        "A = [70, 60, 55, 75, 95, 90, 80, 80, 85, 100]\n",
        "\n",
        "avg = sum(A)/len(A)\n",
        "print(avg)\n",
        "\n",
        "\n",
        "#결과값\n",
        "#79.0"
      ],
      "metadata": {
        "colab": {
          "base_uri": "https://localhost:8080/"
        },
        "id": "m0qpi5oM_pVo",
        "outputId": "06c97bdd-0336-451d-b8aa-d24573306124"
      },
      "execution_count": null,
      "outputs": [
        {
          "output_type": "stream",
          "name": "stdout",
          "text": [
            "79.0\n"
          ]
        }
      ]
    },
    {
      "cell_type": "code",
      "source": [
        "#'코드를 작성하시오'\n",
        "def compress_string(ss):\n",
        "  count = 1\n",
        "  compressed_str = \"\"\n",
        "  for i in range(len(ss)-1):\n",
        "      if ss[i] == ss[i+1]:\n",
        "          count += 1\n",
        "      else:\n",
        "          compressed_str += ss[i] + str(count)\n",
        "          count = 1\n",
        "\n",
        "  # 마지막 문자 처리\n",
        "  compressed_str += ss[-1] + str(count)\n",
        "  return compressed_str\n",
        "\n",
        "s = input(\"압축할 문자열을 입력하세요: \")\n",
        "\n",
        "compressed = compress_string(s)\n",
        "\n",
        "\n",
        "print(\"압축 결과:\", compressed)"
      ],
      "metadata": {
        "colab": {
          "base_uri": "https://localhost:8080/"
        },
        "id": "oVLDIakf_pZC",
        "outputId": "e2768b1e-b829-4640-fea1-cf04929dd9cc"
      },
      "execution_count": null,
      "outputs": [
        {
          "output_type": "stream",
          "name": "stdout",
          "text": [
            "압축할 문자열을 입력하세요: aabbbccc\n",
            "압축 결과: a2b3c3\n"
          ]
        }
      ]
    },
    {
      "cell_type": "code",
      "source": [
        "#'코드를 작성하시오'\n",
        "#Q1. 0 ~ 9 까지의 문자로 된 숫자를 입력받았을 때, 이 입력값이 0 ~ 9까지의 모든 숫자가 각각 한 번씩만 사용된 것인지 확인하는 함수를 작성해 보자.\n",
        "\n",
        "def chkDupNum(s):\n",
        "  result = []\n",
        "  #if len(s) != 10:\n",
        "  #  return False:\n",
        "\n",
        "  for digit in range(10):\n",
        "    if s.count(str(digit)) != 1:\n",
        "      return False\n",
        "\n",
        "  return True\n",
        "     \n",
        "\n",
        "print(chkDupNum(\"0123456789\"))\n",
        "print(chkDupNum(\"01234\"))\n",
        "print(chkDupNum(\"01234567890\"))\n",
        "print(chkDupNum(\"6789012345\"))\n",
        "print(chkDupNum(\"012322456789\"))"
      ],
      "metadata": {
        "colab": {
          "base_uri": "https://localhost:8080/"
        },
        "id": "TsuCk2qs_pb2",
        "outputId": "2f101368-d871-4719-8fa7-4c714df3f1a9"
      },
      "execution_count": null,
      "outputs": [
        {
          "output_type": "stream",
          "name": "stdout",
          "text": [
            "True\n",
            "False\n",
            "False\n",
            "True\n",
            "False\n"
          ]
        }
      ]
    },
    {
      "cell_type": "code",
      "source": [
        "class Calculator:\n",
        "  def __init__(self, numberList):\n",
        "    self.numberList = numberList\n",
        "  \n",
        "  def sum(self):\n",
        "    result = 0\n",
        "    for num in self.numberList:\n",
        "      result += num\n",
        "    return result\n",
        "\n",
        "  def avg(self):\n",
        "    total_sum = self.sum()\n",
        "    return total_sum/len(self.numberList)\n",
        "\n",
        "cal1 = Calculator([1,2,3,4,5])\n",
        "print(cal1.sum()) # 15\n",
        "print(cal1.avg()) # 3.0\n",
        "     \n"
      ],
      "metadata": {
        "colab": {
          "base_uri": "https://localhost:8080/"
        },
        "id": "guTiGE4wDGEE",
        "outputId": "0ae41c15-38ee-4b17-d1f1-8aa24108e692"
      },
      "execution_count": null,
      "outputs": [
        {
          "output_type": "stream",
          "name": "stdout",
          "text": [
            "15\n",
            "3.0\n"
          ]
        }
      ]
    },
    {
      "cell_type": "code",
      "source": [
        "cal2 = Calculator([6,7,8,9,10])\n",
        "print(cal2.sum()) # 40\n",
        "print(cal2.avg()) #8.0"
      ],
      "metadata": {
        "colab": {
          "base_uri": "https://localhost:8080/"
        },
        "id": "9rPlPRlBDrmO",
        "outputId": "680beaa7-5c28-4d46-8ec4-66272f9b5e53"
      },
      "execution_count": null,
      "outputs": [
        {
          "output_type": "stream",
          "name": "stdout",
          "text": [
            "40\n",
            "8.0\n"
          ]
        }
      ]
    }
  ]
}